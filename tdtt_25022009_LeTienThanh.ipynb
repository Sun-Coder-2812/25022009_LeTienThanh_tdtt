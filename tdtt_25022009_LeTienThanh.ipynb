{
  "nbformat": 4,
  "nbformat_minor": 0,
  "metadata": {
    "colab": {
      "provenance": []
    },
    "kernelspec": {
      "name": "python3",
      "display_name": "Python 3"
    },
    "language_info": {
      "name": "python"
    }
  },
  "cells": [
    {
      "cell_type": "code",
      "execution_count": null,
      "metadata": {
        "colab": {
          "base_uri": "https://localhost:8080/"
        },
        "id": "gt3AsadfF-JM",
        "outputId": "330259bd-f9aa-41ea-e736-b1219fedcf38"
      },
      "outputs": [
        {
          "output_type": "stream",
          "name": "stdout",
          "text": [
            "7\n",
            "14\n"
          ]
        }
      ],
      "source": [
        "n=int(input())\n",
        "print(n*2)"
      ]
    },
    {
      "cell_type": "code",
      "source": [
        "a,b=map(int,input().split())\n",
        "s=a*b-3.14*((a/2)**2)\n",
        "print('%.2f'%s)"
      ],
      "metadata": {
        "colab": {
          "base_uri": "https://localhost:8080/"
        },
        "id": "fMNSch4XLrEj",
        "outputId": "23e8464e-80d6-4dd8-e5e6-f5dbd221780d"
      },
      "execution_count": null,
      "outputs": [
        {
          "output_type": "stream",
          "name": "stdout",
          "text": [
            "3 4\n",
            "4.93\n"
          ]
        }
      ]
    },
    {
      "cell_type": "code",
      "source": [
        "c=input()\n",
        "n=ord(c)\n",
        "if 65 <= n and n <=91:\n",
        "  print(c.lower())\n",
        "else:\n",
        "  print(c.upper())"
      ],
      "metadata": {
        "id": "Oo0JpUJTNi1j"
      },
      "execution_count": null,
      "outputs": []
    },
    {
      "cell_type": "code",
      "source": [
        "c=input()\n",
        "n=ord(c)\n",
        "if (65<=n and n<=91) or (97<=n and n<=123):\n",
        "  print(c,'la ki tu alphabet')\n",
        "else:\n",
        "  print(c,'khong phai ki tu alphabet')"
      ],
      "metadata": {
        "colab": {
          "base_uri": "https://localhost:8080/"
        },
        "id": "NcB24eSaOgxh",
        "outputId": "440684fb-a632-4f01-dada-16c48f328acb"
      },
      "execution_count": null,
      "outputs": [
        {
          "output_type": "stream",
          "name": "stdout",
          "text": [
            "6\n",
            "6 khong phai ki tu alphabet\n"
          ]
        }
      ]
    },
    {
      "cell_type": "code",
      "source": [
        "a=input()\n",
        "a=a.lower()\n",
        "n=ord(a)\n",
        "print(chr(n-1))"
      ],
      "metadata": {
        "colab": {
          "base_uri": "https://localhost:8080/"
        },
        "id": "P45_CCt-PHRK",
        "outputId": "b8488d6d-e5a2-4db2-9e69-1aecdf82005f"
      },
      "execution_count": null,
      "outputs": [
        {
          "output_type": "stream",
          "name": "stdout",
          "text": [
            "h\n",
            "g\n"
          ]
        }
      ]
    },
    {
      "cell_type": "code",
      "source": [
        "from math import *\n",
        "a,b,c=map(int,input().split())\n",
        "if a+b>c and a+c>b and c+b>a:\n",
        "  p=(a+b+c)/2\n",
        "  s=sqrt(p*(p-a)*(p-b)*(p-c))\n",
        "  print('%.1f'%s)\n",
        "else:\n",
        "  print('Day khong phai 3 canh tam giac')"
      ],
      "metadata": {
        "colab": {
          "base_uri": "https://localhost:8080/"
        },
        "id": "bFl9ZgY7PW36",
        "outputId": "16ecfa72-28b3-4a5d-a98a-c3d083315c7f"
      },
      "execution_count": null,
      "outputs": [
        {
          "output_type": "stream",
          "name": "stdout",
          "text": [
            "3 4 9\n",
            "Day khong phai 3 canh tam giac\n"
          ]
        }
      ]
    },
    {
      "cell_type": "code",
      "source": [
        "s=input()\n",
        "print(s[4],s[8])"
      ],
      "metadata": {
        "colab": {
          "base_uri": "https://localhost:8080/"
        },
        "id": "NdVDkA7dSVOq",
        "outputId": "e1c61728-da7a-4b93-edfe-880a48241740"
      },
      "execution_count": null,
      "outputs": [
        {
          "output_type": "stream",
          "name": "stdout",
          "text": [
            "123456789\n",
            "5 9\n"
          ]
        }
      ]
    },
    {
      "cell_type": "code",
      "source": [],
      "metadata": {
        "id": "vbsSpLyRSxPz"
      },
      "execution_count": null,
      "outputs": []
    },
    {
      "cell_type": "code",
      "source": [
        "n=int(input())\n",
        "if n%2==0:\n",
        "  print(n,'la so chan')\n",
        "else:\n",
        "  print(n,'la so le')"
      ],
      "metadata": {
        "colab": {
          "base_uri": "https://localhost:8080/"
        },
        "id": "ptBkLrLZSv6s",
        "outputId": "10c5fffd-7b23-4d8a-df79-d3b207cd35b2"
      },
      "execution_count": null,
      "outputs": [
        {
          "output_type": "stream",
          "name": "stdout",
          "text": [
            "3\n",
            "3 la so le\n"
          ]
        }
      ]
    },
    {
      "cell_type": "code",
      "source": [
        "n=int(input())\n",
        "if n%10==5:\n",
        "  print('True')\n",
        "else:\n",
        "  print('False')"
      ],
      "metadata": {
        "colab": {
          "base_uri": "https://localhost:8080/"
        },
        "id": "jce_1sSbTABA",
        "outputId": "4dff5c04-1d2b-4163-b3b3-5ee085347339"
      },
      "execution_count": null,
      "outputs": [
        {
          "output_type": "stream",
          "name": "stdout",
          "text": [
            "14\n",
            "False\n"
          ]
        }
      ]
    },
    {
      "cell_type": "code",
      "source": [
        "n=int(input())\n",
        "if n%15==0:\n",
        "  print('True')\n",
        "else:\n",
        "  print('False')\n"
      ],
      "metadata": {
        "id": "lTk9gGwkTKso"
      },
      "execution_count": null,
      "outputs": []
    },
    {
      "cell_type": "code",
      "source": [
        "n=int(input())\n",
        "if n>=18:\n",
        "  print('Du tuoi')\n",
        "else:\n",
        "  print('Khong du tuoi')"
      ],
      "metadata": {
        "id": "74xSMQ46Td6I"
      },
      "execution_count": null,
      "outputs": []
    },
    {
      "cell_type": "code",
      "source": [
        "from math import *\n",
        "a,b=map(int,input().split())\n",
        "if a==b:\n",
        "  print(a,'=',b)\n",
        "else:\n",
        "  print(max(a,b))"
      ],
      "metadata": {
        "colab": {
          "base_uri": "https://localhost:8080/"
        },
        "id": "DEThzx-2Tqkl",
        "outputId": "c76fa6cc-cfc2-4c36-e809-be632f6adb9a"
      },
      "execution_count": null,
      "outputs": [
        {
          "output_type": "stream",
          "name": "stdout",
          "text": [
            "2 2\n",
            "2 = 2\n"
          ]
        }
      ]
    },
    {
      "cell_type": "code",
      "source": [
        "n=input()\n",
        "if (65<=ord(n) and ord(n)<=91) or (97<=ord(n) and ord(n)<=123):\n",
        "  print(n,'la chu')\n",
        "else:\n",
        "  print(n,'la so')"
      ],
      "metadata": {
        "colab": {
          "base_uri": "https://localhost:8080/"
        },
        "id": "k2OLidGfT-tS",
        "outputId": "4e896308-65f9-4f60-a0d0-6ebf4537dad4"
      },
      "execution_count": null,
      "outputs": [
        {
          "output_type": "stream",
          "name": "stdout",
          "text": [
            "6\n",
            "6 la so\n"
          ]
        }
      ]
    },
    {
      "cell_type": "code",
      "source": [
        "n=float(input())\n",
        "if n>=8:\n",
        "  print('gioi')\n",
        "elif n>=6.5:\n",
        "  print('kha')\n",
        "elif n>=5:\n",
        "  print('trung binh')\n",
        "else:\n",
        "  print('yeu')\n"
      ],
      "metadata": {
        "colab": {
          "base_uri": "https://localhost:8080/"
        },
        "id": "DBQJvAfTUUuY",
        "outputId": "cba4bb16-e4d6-47d6-a547-1d40b4c37af6"
      },
      "execution_count": null,
      "outputs": [
        {
          "output_type": "stream",
          "name": "stdout",
          "text": [
            "1\n",
            "yeu\n"
          ]
        }
      ]
    },
    {
      "cell_type": "code",
      "source": [
        "n=int(input())\n",
        "if n%400==0 or(n%4==0 and n%100!=0):\n",
        "  print('Day la nam nhuan')\n",
        "else:\n",
        "  print('Day khong phai nam nhuan')"
      ],
      "metadata": {
        "colab": {
          "base_uri": "https://localhost:8080/"
        },
        "id": "t1lGd7F4VMar",
        "outputId": "d963a25d-e166-45c4-803d-e6c32e276411"
      },
      "execution_count": null,
      "outputs": [
        {
          "output_type": "stream",
          "name": "stdout",
          "text": [
            "2016\n",
            "Day la nam nhuan\n"
          ]
        }
      ]
    },
    {
      "cell_type": "code",
      "source": [
        "n=int(input())\n",
        "if n==0:\n",
        "  print('không')\n",
        "elif n==1:\n",
        "  print('một')\n",
        "elif n==2:\n",
        "  print('hai')\n",
        "elif n==3:\n",
        "  print('ba')\n",
        "elif n==4:\n",
        "  print('bốn')\n",
        "elif n==5:\n",
        "  print('năm')\n",
        "elif n==6:\n",
        "  print('sáu')\n",
        "elif n==7:\n",
        "  print('bảy')\n",
        "elif n==8:\n",
        "  print('tám')\n",
        "elif n==9:\n",
        "  print('chín')\n"
      ],
      "metadata": {
        "colab": {
          "base_uri": "https://localhost:8080/"
        },
        "id": "3gDKZ9nSVepf",
        "outputId": "5014034f-e35e-45c7-b407-4ff1da1cf196"
      },
      "execution_count": null,
      "outputs": [
        {
          "output_type": "stream",
          "name": "stdout",
          "text": [
            "8\n",
            "tám\n"
          ]
        }
      ]
    },
    {
      "cell_type": "code",
      "source": [
        "n=int(input())\n",
        "if n>=4:\n",
        "  print('Qua môn')\n",
        "else:\n",
        "  print('Học lại')"
      ],
      "metadata": {
        "colab": {
          "base_uri": "https://localhost:8080/"
        },
        "id": "3M0oIXW0WIhG",
        "outputId": "d19d88c4-43bc-4307-fa0a-1c22b5e8e775"
      },
      "execution_count": null,
      "outputs": [
        {
          "output_type": "stream",
          "name": "stdout",
          "text": [
            "1\n",
            "Học lại\n"
          ]
        }
      ]
    },
    {
      "cell_type": "code",
      "source": [
        "n=int(input())\n",
        "print(2025-n)"
      ],
      "metadata": {
        "colab": {
          "base_uri": "https://localhost:8080/"
        },
        "id": "mTK6B1CCWVQ3",
        "outputId": "217ed155-76cd-40ce-f00a-b06dbf60dc8c"
      },
      "execution_count": null,
      "outputs": [
        {
          "output_type": "stream",
          "name": "stdout",
          "text": [
            "2006\n",
            "19\n"
          ]
        }
      ]
    }
  ]
}