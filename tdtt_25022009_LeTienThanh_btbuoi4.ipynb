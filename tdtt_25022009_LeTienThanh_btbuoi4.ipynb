{
  "nbformat": 4,
  "nbformat_minor": 0,
  "metadata": {
    "colab": {
      "provenance": []
    },
    "kernelspec": {
      "name": "python3",
      "display_name": "Python 3"
    },
    "language_info": {
      "name": "python"
    }
  },
  "cells": [
    {
      "cell_type": "code",
      "execution_count": 5,
      "metadata": {
        "colab": {
          "base_uri": "https://localhost:8080/"
        },
        "id": "OWNHhJNwl27r",
        "outputId": "c4d21b79-5e5e-4557-c897-35bd4705a304"
      },
      "outputs": [
        {
          "output_type": "stream",
          "name": "stdout",
          "text": [
            "50\n",
            "1275\n"
          ]
        }
      ],
      "source": [
        "from math import *\n",
        "s=0\n",
        "n=int(input())\n",
        "for i in range(1,n+1):\n",
        "  s=s+i\n",
        "print(s)"
      ]
    },
    {
      "cell_type": "code",
      "source": [
        "from math import *\n",
        "c=False\n",
        "m=-1\n",
        "while c==False:\n",
        "  n=input()\n",
        "  dem=0\n",
        "  for i in range (len(n)):\n",
        "    if ord(n[i])<ord('0') or ord(n[i]) > ord('9'):\n",
        "      dem+=1\n",
        "  if dem==0:\n",
        "    c=True\n",
        "    m=int(n)\n",
        "c=True\n",
        "for i in range(2,int(sqrt(m))+1):\n",
        "  if m % i == 0:\n",
        "    c=False\n",
        "if c==True:\n",
        "  print('True')\n",
        "else:\n",
        "  print('False')"
      ],
      "metadata": {
        "colab": {
          "base_uri": "https://localhost:8080/"
        },
        "id": "wuoyE_s7mkpS",
        "outputId": "81425192-868c-416f-a2e7-6d8c29916e76"
      },
      "execution_count": 35,
      "outputs": [
        {
          "output_type": "stream",
          "name": "stdout",
          "text": [
            "2.0\n",
            "6.0\n",
            "11\n",
            "True\n"
          ]
        }
      ]
    },
    {
      "cell_type": "code",
      "source": [
        "n=int(input())\n",
        "s=1\n",
        "for i in range(1,n+1):\n",
        "  s=s*i\n",
        "print(s)"
      ],
      "metadata": {
        "colab": {
          "base_uri": "https://localhost:8080/"
        },
        "id": "6WZ1txChn34P",
        "outputId": "0bc744c3-fd96-4492-d82a-a4bcc2c9a6cc"
      },
      "execution_count": 8,
      "outputs": [
        {
          "output_type": "stream",
          "name": "stdout",
          "text": [
            "5\n",
            "120\n"
          ]
        }
      ]
    },
    {
      "cell_type": "code",
      "source": [
        "n=int(input())\n",
        "if n==0:\n",
        "  print(1)\n",
        "else:\n",
        "  n=abs(n)\n",
        "  dem=0\n",
        "  while(n>0 or n<0):\n",
        "    dem+=1\n",
        "    n=n//10\n",
        "  print(dem)"
      ],
      "metadata": {
        "colab": {
          "base_uri": "https://localhost:8080/"
        },
        "id": "JSirnvNooMnQ",
        "outputId": "485ceae3-4857-4539-a51f-4be35d57c0c4"
      },
      "execution_count": 30,
      "outputs": [
        {
          "output_type": "stream",
          "name": "stdout",
          "text": [
            "567890\n",
            "6\n"
          ]
        }
      ]
    }
  ]
}