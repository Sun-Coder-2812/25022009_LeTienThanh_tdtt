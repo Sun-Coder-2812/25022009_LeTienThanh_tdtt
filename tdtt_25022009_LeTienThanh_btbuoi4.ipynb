{
  "nbformat": 4,
  "nbformat_minor": 0,
  "metadata": {
    "colab": {
      "provenance": []
    },
    "kernelspec": {
      "name": "python3",
      "display_name": "Python 3"
    },
    "language_info": {
      "name": "python"
    }
  },
  "cells": [
    {
      "cell_type": "code",
      "execution_count": null,
      "metadata": {
        "colab": {
          "base_uri": "https://localhost:8080/"
        },
        "id": "OWNHhJNwl27r",
        "outputId": "c4d21b79-5e5e-4557-c897-35bd4705a304"
      },
      "outputs": [
        {
          "output_type": "stream",
          "name": "stdout",
          "text": [
            "50\n",
            "1275\n"
          ]
        }
      ],
      "source": [
        "from math import *\n",
        "s=0\n",
        "n=int(input())\n",
        "for i in range(1,n+1):\n",
        "  s=s+i\n",
        "print(s)"
      ]
    },
    {
      "cell_type": "code",
      "source": [
        "from math import *\n",
        "c=False\n",
        "m=-1\n",
        "while c==False:\n",
        "  n=input()\n",
        "  dem=0\n",
        "  for i in range (len(n)):\n",
        "    if ord(n[i])<ord('0') or ord(n[i]) > ord('9'):\n",
        "      dem+=1\n",
        "  if dem==0:\n",
        "    c=True\n",
        "    m=int(n)\n",
        "c=True\n",
        "for i in range(2,int(sqrt(m))+1):\n",
        "  if m % i == 0:\n",
        "    c=False\n",
        "if c==True:\n",
        "  print('True')\n",
        "else:\n",
        "  print('False')"
      ],
      "metadata": {
        "colab": {
          "base_uri": "https://localhost:8080/"
        },
        "id": "wuoyE_s7mkpS",
        "outputId": "81425192-868c-416f-a2e7-6d8c29916e76"
      },
      "execution_count": null,
      "outputs": [
        {
          "output_type": "stream",
          "name": "stdout",
          "text": [
            "2.0\n",
            "6.0\n",
            "11\n",
            "True\n"
          ]
        }
      ]
    },
    {
      "cell_type": "code",
      "source": [
        "n=int(input())\n",
        "s=1\n",
        "for i in range(1,n+1):\n",
        "  s=s*i\n",
        "print(s)"
      ],
      "metadata": {
        "colab": {
          "base_uri": "https://localhost:8080/"
        },
        "id": "6WZ1txChn34P",
        "outputId": "0bc744c3-fd96-4492-d82a-a4bcc2c9a6cc"
      },
      "execution_count": null,
      "outputs": [
        {
          "output_type": "stream",
          "name": "stdout",
          "text": [
            "5\n",
            "120\n"
          ]
        }
      ]
    },
    {
      "cell_type": "code",
      "source": [
        "n=int(input())\n",
        "if n==0:\n",
        "  print(1)\n",
        "else:\n",
        "  n=abs(n)\n",
        "  dem=0\n",
        "  while(n>0 or n<0):\n",
        "    dem+=1\n",
        "    n=n//10\n",
        "  print(dem)"
      ],
      "metadata": {
        "colab": {
          "base_uri": "https://localhost:8080/"
        },
        "id": "JSirnvNooMnQ",
        "outputId": "485ceae3-4857-4539-a51f-4be35d57c0c4"
      },
      "execution_count": null,
      "outputs": [
        {
          "output_type": "stream",
          "name": "stdout",
          "text": [
            "567890\n",
            "6\n"
          ]
        }
      ]
    },
    {
      "cell_type": "code",
      "source": [
        "from math import *\n",
        "n=int(input())\n",
        "c=False\n",
        "for i in range(1,n+1):\n",
        "  x=int(input())\n",
        "  if x==42:\n",
        "    c=True\n",
        "if c==True:\n",
        "  print(\"I've found the meaning of life!\")\n",
        "else:\n",
        "  print(\"It's a joke!\")\n",
        "\n"
      ],
      "metadata": {
        "id": "kOmL0MIs5pxz"
      },
      "execution_count": null,
      "outputs": []
    },
    {
      "cell_type": "code",
      "source": [
        "from math import*\n",
        "def check(n):\n",
        "  if n<2: return False\n",
        "  if n == 2: return True\n",
        "  for i in range(2,int(sqrt(n))+1):\n",
        "    if n % i == 0:\n",
        "      return False\n",
        "  return True\n",
        "a,b=map(int,input().split())\n",
        "kq=0\n",
        "for i in range(a,b+1):\n",
        "  if check(i)==True:\n",
        "    kq+=i\n",
        "print(kq)"
      ],
      "metadata": {
        "colab": {
          "base_uri": "https://localhost:8080/"
        },
        "id": "_Mzovjg36mTl",
        "outputId": "db358cc4-032c-4ba2-d85c-0e534c68eb8f"
      },
      "execution_count": null,
      "outputs": [
        {
          "output_type": "stream",
          "name": "stdout",
          "text": [
            "100 120\n",
            "533\n"
          ]
        }
      ]
    },
    {
      "cell_type": "code",
      "source": [
        "from math import*\n",
        "def check(n):\n",
        "  if n<2: return False\n",
        "  if n == 2: return True\n",
        "  for i in range(2,int(sqrt(n))+1):\n",
        "    if n % i == 0:\n",
        "      return False\n",
        "  return True\n",
        "n=int(input())\n",
        "kq=2\n",
        "for i in range (2,n+1):\n",
        "  if check(i)==True and n%i==0:\n",
        "    kq=i\n",
        "print(kq)"
      ],
      "metadata": {
        "colab": {
          "base_uri": "https://localhost:8080/"
        },
        "id": "eEtmgAt-7lrs",
        "outputId": "5ae84a21-159f-4fa2-ac75-0bb6208450cd"
      },
      "execution_count": null,
      "outputs": [
        {
          "output_type": "stream",
          "name": "stdout",
          "text": [
            "27\n",
            "3\n"
          ]
        }
      ]
    },
    {
      "cell_type": "code",
      "source": [
        "from math import *\n",
        "def check(n):\n",
        "  s=str(n)\n",
        "  for i in range(len(s)):\n",
        "    if s[i]!=s[len(s)-1-i]:\n",
        "      return False\n",
        "  return True\n",
        "def reverse(n):\n",
        "  s=str(n)\n",
        "  ss=''\n",
        "  for i in range(len(s)-1,-1,-1):\n",
        "    ss=ss+s[i]\n",
        "  return int(ss)\n",
        "dem=0\n",
        "n=int(input())\n",
        "while check(n)==False:\n",
        "  dem+=1\n",
        "  n=n+reverse(n)\n",
        "print(dem,n)"
      ],
      "metadata": {
        "colab": {
          "base_uri": "https://localhost:8080/"
        },
        "id": "kp1uNQNG8JNT",
        "outputId": "99990a04-e84a-4356-ca5f-c2b88ef52df7"
      },
      "execution_count": null,
      "outputs": [
        {
          "output_type": "stream",
          "name": "stdout",
          "text": [
            "89\n",
            "24 8813200023188\n"
          ]
        }
      ]
    },
    {
      "cell_type": "code",
      "source": [
        "from math import *\n",
        "def check(n):\n",
        "  s=str(n)\n",
        "  b=list(s)\n",
        "  for i in range(len(b)):\n",
        "    if b.count(b[i]) > 1:\n",
        "      return False\n",
        "  return True\n",
        "n=int(input())\n",
        "for i in range(1,int(sqrt(n))+1):\n",
        "  s=i*i\n",
        "  if check(s)==True:\n",
        "    print(s,end=' ')\n"
      ],
      "metadata": {
        "colab": {
          "base_uri": "https://localhost:8080/"
        },
        "id": "O-kg7KOO_4Tb",
        "outputId": "ad34b4f7-a6c6-486f-a3c4-0a5882d4acc1"
      },
      "execution_count": null,
      "outputs": [
        {
          "output_type": "stream",
          "name": "stdout",
          "text": [
            "100\n",
            "1 4 9 16 25 36 49 64 81 "
          ]
        }
      ]
    },
    {
      "cell_type": "code",
      "source": [
        "from math import *\n",
        "def check(n):\n",
        "  dem=0\n",
        "  while n!=1:\n",
        "    dem+=1\n",
        "    if n%2==1:\n",
        "      n=3*n+1\n",
        "    else:\n",
        "      n=n//2\n",
        "  return dem\n",
        "n=int(input())\n",
        "maxx=0\n",
        "id=1\n",
        "for i in range(1,n+1):\n",
        "  if check(i)>maxx:\n",
        "    maxx=check(i)\n",
        "    id=i\n",
        "print(id,maxx+1)"
      ],
      "metadata": {
        "colab": {
          "base_uri": "https://localhost:8080/"
        },
        "id": "kYrhsWtRBt9-",
        "outputId": "02f933c7-e6d2-4b9e-ac79-4c5c0e03ad80"
      },
      "execution_count": null,
      "outputs": [
        {
          "output_type": "stream",
          "name": "stdout",
          "text": [
            "200\n",
            "171 125\n"
          ]
        }
      ]
    },
    {
      "cell_type": "code",
      "source": [
        "from math import *\n",
        "n=int(input())\n",
        "dem=0\n",
        "for i in range(2,n+1):\n",
        "  if n % i == 0 and i % 2 == 0:\n",
        "    dem+=1\n",
        "print(dem)"
      ],
      "metadata": {
        "colab": {
          "base_uri": "https://localhost:8080/"
        },
        "id": "eCFbHmX4Eoig",
        "outputId": "5beb2386-0650-4329-8b8f-b3e17a5e470c"
      },
      "execution_count": null,
      "outputs": [
        {
          "output_type": "stream",
          "name": "stdout",
          "text": [
            "10024\n",
            "12\n"
          ]
        }
      ]
    },
    {
      "cell_type": "code",
      "source": [
        "from math import *\n",
        "x,n=map(int,input().split())\n",
        "for i in range(n):\n",
        "  x=x*100.7/100\n",
        "print(int(x))"
      ],
      "metadata": {
        "colab": {
          "base_uri": "https://localhost:8080/"
        },
        "id": "kPBQdDuzE_tk",
        "outputId": "de3083b5-ed8a-49c0-b1b1-f00d2d1982c6"
      },
      "execution_count": null,
      "outputs": [
        {
          "output_type": "stream",
          "name": "stdout",
          "text": [
            "1999 4\n",
            "2055\n"
          ]
        }
      ]
    },
    {
      "cell_type": "code",
      "source": [
        "from math import *\n",
        "a,b=map(int,input().split())\n",
        "sa=0\n",
        "sb=0\n",
        "for i in range(1,a):\n",
        "  if a%i==0:\n",
        "    sa+=i\n",
        "for i in range(1,b):\n",
        "  if b%i==0:\n",
        "    sb+=i\n",
        "if a==sb and b==sa:\n",
        "  print('true')\n",
        "else:\n",
        "  print('false')"
      ],
      "metadata": {
        "colab": {
          "base_uri": "https://localhost:8080/"
        },
        "id": "sUtWnYdUIn4A",
        "outputId": "d068cafc-8b4c-46fd-b924-1cb4541b8445"
      },
      "execution_count": null,
      "outputs": [
        {
          "output_type": "stream",
          "name": "stdout",
          "text": [
            "2620 2924\n",
            "true\n"
          ]
        }
      ]
    },
    {
      "cell_type": "code",
      "source": [
        "from math import *\n",
        "a,b=map(int,input().split())\n",
        "print(gcd(a,b))"
      ],
      "metadata": {
        "colab": {
          "base_uri": "https://localhost:8080/"
        },
        "id": "HZdOYMvPtZT_",
        "outputId": "d6ad2e12-91bd-404b-a5a7-2875891931f6"
      },
      "execution_count": null,
      "outputs": [
        {
          "output_type": "stream",
          "name": "stdout",
          "text": [
            "100024 1024\n",
            "8\n"
          ]
        }
      ]
    },
    {
      "cell_type": "code",
      "source": [
        "from math import *\n",
        "x,y=map(int,input().split())\n",
        "if y%2==1 or 2*x>y or 4*x<y:\n",
        "  print('invalid')\n",
        "else:\n",
        "  print(x-(y//2-x),y//2-x)"
      ],
      "metadata": {
        "colab": {
          "base_uri": "https://localhost:8080/"
        },
        "id": "KIK-CaLgtrFV",
        "outputId": "16034969-9b81-4403-bc4e-e21961b0d0dd"
      },
      "execution_count": null,
      "outputs": [
        {
          "output_type": "stream",
          "name": "stdout",
          "text": [
            "100 150\n",
            "invalid\n"
          ]
        }
      ]
    },
    {
      "cell_type": "code",
      "source": [
        "for i in range(1,100):\n",
        "  if i%6==0:\n",
        "    print(i,end=' ')"
      ],
      "metadata": {
        "colab": {
          "base_uri": "https://localhost:8080/"
        },
        "id": "IS0VsGbCvlye",
        "outputId": "065721c1-8ac9-4648-8a29-e431bcfd6259"
      },
      "execution_count": null,
      "outputs": [
        {
          "output_type": "stream",
          "name": "stdout",
          "text": [
            "6 12 18 24 30 36 42 48 54 60 66 72 78 84 90 96 "
          ]
        }
      ]
    },
    {
      "cell_type": "code",
      "source": [
        "from math import *\n",
        "a=int(input())\n",
        "for i in range(1,11):\n",
        "  print(a,'x',i,'=',a*i)"
      ],
      "metadata": {
        "colab": {
          "base_uri": "https://localhost:8080/"
        },
        "id": "xmp1iddSvwdp",
        "outputId": "b6adc55b-bd9f-4b58-a8d9-32314439ee9f"
      },
      "execution_count": null,
      "outputs": [
        {
          "output_type": "stream",
          "name": "stdout",
          "text": [
            "8\n",
            "8 x 1 = 8\n",
            "8 x 2 = 16\n",
            "8 x 3 = 24\n",
            "8 x 4 = 32\n",
            "8 x 5 = 40\n",
            "8 x 6 = 48\n",
            "8 x 7 = 56\n",
            "8 x 8 = 64\n",
            "8 x 9 = 72\n",
            "8 x 10 = 80\n"
          ]
        }
      ]
    },
    {
      "cell_type": "code",
      "source": [
        "from math import *\n",
        "a,b=map(int,input().split())\n",
        "for i in range(1,min(a,b)):\n",
        "  if a%i==0 and b%i==0:\n",
        "    print(i,end=' ')"
      ],
      "metadata": {
        "colab": {
          "base_uri": "https://localhost:8080/"
        },
        "id": "WRq92SMNwGBJ",
        "outputId": "70d6361a-1d2d-4f8d-fbdb-f6d83f2a223d"
      },
      "execution_count": null,
      "outputs": [
        {
          "output_type": "stream",
          "name": "stdout",
          "text": [
            "24 18\n",
            "1 2 3 6 "
          ]
        }
      ]
    },
    {
      "cell_type": "code",
      "source": [
        "n=int(input())\n",
        "for i in range(2,n+1,2):\n",
        "  print(i,end=' ')"
      ],
      "metadata": {
        "colab": {
          "base_uri": "https://localhost:8080/"
        },
        "id": "tGjAqVAkwl92",
        "outputId": "8c2e9cf3-74a3-4d73-e46c-d5ce2a7a5a30"
      },
      "execution_count": null,
      "outputs": [
        {
          "output_type": "stream",
          "name": "stdout",
          "text": [
            "99\n",
            "2 4 6 8 10 12 14 16 18 20 22 24 26 28 30 32 34 36 38 40 42 44 46 48 50 52 54 56 58 60 62 64 66 68 70 72 74 76 78 80 82 84 86 88 90 92 94 96 98 "
          ]
        }
      ]
    },
    {
      "cell_type": "code",
      "source": [
        "from math import *\n",
        "n=int(input())\n",
        "c=True\n",
        "while n>1:\n",
        "  if n%2!=0 and n>1:\n",
        "    c=False\n",
        "  n//=2\n",
        "if c==True:\n",
        "  print('True')\n",
        "else:\n",
        "  print('False')"
      ],
      "metadata": {
        "colab": {
          "base_uri": "https://localhost:8080/"
        },
        "id": "ATKhSlD7w9Ox",
        "outputId": "1c689dae-2efc-4b15-b862-f661defd7f93"
      },
      "execution_count": null,
      "outputs": [
        {
          "output_type": "stream",
          "name": "stdout",
          "text": [
            "10000000000\n",
            "False\n"
          ]
        }
      ]
    },
    {
      "cell_type": "code",
      "source": [
        "from math import *\n",
        "n=int(input())\n",
        "s=0\n",
        "while n>0:\n",
        "  s+=(n%10)\n",
        "  n//=10\n",
        "print(s)\n"
      ],
      "metadata": {
        "colab": {
          "base_uri": "https://localhost:8080/"
        },
        "id": "UXyXdg4xyA8K",
        "outputId": "82661bc3-3854-4b3e-df84-90a994a6363f"
      },
      "execution_count": null,
      "outputs": [
        {
          "output_type": "stream",
          "name": "stdout",
          "text": [
            "1000000000000\n",
            "1\n"
          ]
        }
      ]
    },
    {
      "cell_type": "code",
      "source": [
        "from math import *\n",
        "sl=0\n",
        "sc=0\n",
        "n=int(input())\n",
        "while n>0:\n",
        "  x=n%10\n",
        "  if x%2==0:\n",
        "    sc+=1\n",
        "  else:\n",
        "    sl+=1\n",
        "  n//=10\n",
        "print(sc,'chu so chan')\n",
        "print(sl,'chu so le')"
      ],
      "metadata": {
        "colab": {
          "base_uri": "https://localhost:8080/"
        },
        "id": "YBRcdnf5yfRO",
        "outputId": "d48cb09d-6b3b-48c3-86f6-f12df09e84d6"
      },
      "execution_count": null,
      "outputs": [
        {
          "output_type": "stream",
          "name": "stdout",
          "text": [
            "12345\n",
            "2 chu so chan\n",
            "3 chu so le\n"
          ]
        }
      ]
    },
    {
      "cell_type": "code",
      "source": [
        "from math import *\n",
        "n=int(input())\n",
        "kq=1\n",
        "for i in range(1,n):\n",
        "  s=i*(i+1)/2\n",
        "  if s<n:\n",
        "    kq=i\n",
        "print(kq)\n"
      ],
      "metadata": {
        "colab": {
          "base_uri": "https://localhost:8080/"
        },
        "id": "jnHCvxqtzB0-",
        "outputId": "79a0e649-aeb8-4cff-d0e3-5c358f125e16"
      },
      "execution_count": null,
      "outputs": [
        {
          "output_type": "stream",
          "name": "stdout",
          "text": [
            "16\n",
            "5\n"
          ]
        }
      ]
    },
    {
      "cell_type": "code",
      "source": [
        "from math import*\n",
        "def sum(n):\n",
        "  s=0\n",
        "  for i in range(1,n+1):\n",
        "    s=s+(1/i)\n",
        "  return s\n",
        "A=float(input())\n",
        "s=0\n",
        "id=0\n",
        "while(s<A):\n",
        "  id+=1\n",
        "  s=sum(id)\n",
        "print(id)"
      ],
      "metadata": {
        "colab": {
          "base_uri": "https://localhost:8080/"
        },
        "id": "nsXa96bGzvPZ",
        "outputId": "fa1b213b-f3ef-45bd-97d3-8a2737b3bce4"
      },
      "execution_count": null,
      "outputs": [
        {
          "output_type": "stream",
          "name": "stdout",
          "text": [
            "1.8\n",
            "3\n"
          ]
        }
      ]
    },
    {
      "cell_type": "code",
      "source": [
        "from math import *\n",
        "n=int(input())\n",
        "maxx=n\n",
        "minn=n\n",
        "c=True\n",
        "while c==True:\n",
        "  n=int(input())\n",
        "  if n==-1: break\n",
        "  maxx=max(maxx,n)\n",
        "  minn=min(minn,n)\n",
        "print(maxx,minn)\n"
      ],
      "metadata": {
        "colab": {
          "base_uri": "https://localhost:8080/"
        },
        "id": "v6QkamJ30its",
        "outputId": "9fec197c-01a6-4da5-961e-61ed113c331c"
      },
      "execution_count": null,
      "outputs": [
        {
          "output_type": "stream",
          "name": "stdout",
          "text": [
            "1\n",
            "2\n",
            "3\n",
            "4\n",
            "-1\n",
            "4 1\n"
          ]
        }
      ]
    },
    {
      "cell_type": "code",
      "source": [
        "from math import *\n",
        "def fib(n):\n",
        "  if n==1: return 1\n",
        "  if n==2: return 1\n",
        "  return fib(n-1)+fib(n-2)\n",
        "a=int(input())\n",
        "s=0\n",
        "id=0\n",
        "while True:\n",
        "  id+=1\n",
        "  s=fib(id)\n",
        "  if(s>a) :\n",
        "    id-=1\n",
        "    break\n",
        "print(fib(id))"
      ],
      "metadata": {
        "colab": {
          "base_uri": "https://localhost:8080/"
        },
        "id": "QDt4ZjtA1uKz",
        "outputId": "3f8cf561-2097-4f59-b0cc-4c130f609fb4"
      },
      "execution_count": null,
      "outputs": [
        {
          "output_type": "stream",
          "name": "stdout",
          "text": [
            "2\n",
            "2\n"
          ]
        }
      ]
    },
    {
      "cell_type": "code",
      "source": [
        "n=input()\n",
        "n=n+' '\n",
        "kq=0\n",
        "for i in range(len(n)):\n",
        "  if n[i]==' ' and n[i-1]!=' ':\n",
        "    kq+=1\n",
        "print(kq)"
      ],
      "metadata": {
        "colab": {
          "base_uri": "https://localhost:8080/"
        },
        "id": "yZ-kPqkT2AYe",
        "outputId": "7f8d5c1b-6a41-4e8d-85fe-6a2c70a52a5f"
      },
      "execution_count": null,
      "outputs": [
        {
          "output_type": "stream",
          "name": "stdout",
          "text": [
            "      gh     gh    gh\n",
            "3\n"
          ]
        }
      ]
    },
    {
      "cell_type": "code",
      "source": [
        "id=0\n",
        "n=input()\n",
        "for i in range(1,len(n)):\n",
        "  if n[i]==' ' and n[i-1]!=' ':\n",
        "    id=i\n",
        "    break\n",
        "for i in range(id):\n",
        "  if n[i]!=' ':\n",
        "    print(n[i],end='')"
      ],
      "metadata": {
        "colab": {
          "base_uri": "https://localhost:8080/"
        },
        "id": "WROMsCSg25wm",
        "outputId": "51a733df-30b8-4491-bb18-cef2ba198ae4"
      },
      "execution_count": null,
      "outputs": [
        {
          "output_type": "stream",
          "name": "stdout",
          "text": [
            "he he\n",
            "he"
          ]
        }
      ]
    },
    {
      "cell_type": "code",
      "source": [
        "n=input()\n",
        "a=0\n",
        "b=0\n",
        "c=0\n",
        "id=0\n",
        "for i in range(len(n)):\n",
        "  if n[i]==',':\n",
        "    id=i\n",
        "    break\n",
        "  a=a*10+int(n[i])\n",
        "for i in range(id+2,len(n)):\n",
        "  if n[i]==',':\n",
        "    id=i\n",
        "    break\n",
        "  b=b*10+int(n[i])\n",
        "for i in range(id+2,len(n)):\n",
        "  c=c*10+int(n[i])\n",
        "print(a+b+c)"
      ],
      "metadata": {
        "colab": {
          "base_uri": "https://localhost:8080/"
        },
        "id": "jmlADYor60SM",
        "outputId": "55b5443b-d598-446e-ff19-7a338947d645"
      },
      "execution_count": null,
      "outputs": [
        {
          "output_type": "stream",
          "name": "stdout",
          "text": [
            "3, 12, 15\n",
            "30\n"
          ]
        }
      ]
    },
    {
      "cell_type": "code",
      "source": [
        "from math import *\n",
        "n=input()\n",
        "thuong=0\n",
        "hoa=0\n",
        "so=0\n",
        "for i in range(len(n)):\n",
        "  x=n[i]\n",
        "  if 65 <= ord(x) and ord(x) <= 91:\n",
        "    hoa+=1\n",
        "  elif 97 <= ord(x) and ord(x) <= 123:\n",
        "    thuong+=1\n",
        "  elif ord('0') <= ord(x) and ord(x) <= ord('9'):\n",
        "    so+=1\n",
        "print(hoa,'ki tu in hoa')\n",
        "print(thuong,'ki tu in thuong')\n",
        "print(so,'ki tu so')"
      ],
      "metadata": {
        "colab": {
          "base_uri": "https://localhost:8080/"
        },
        "id": "EwH0VRbM5k16",
        "outputId": "9d319d2d-5b40-41c7-ccaf-30de8a5df051"
      },
      "execution_count": null,
      "outputs": [
        {
          "output_type": "stream",
          "name": "stdout",
          "text": [
            "asdfghjASDFGH2345678\n",
            "6 ki tu in hoa\n",
            "7 ki tu in thuong\n",
            "7 ki tu so\n"
          ]
        }
      ]
    },
    {
      "cell_type": "code",
      "source": [
        "from math import *\n",
        "n=input()\n",
        "s=0\n",
        "for i in range(len(n)):\n",
        "  if 48 <= ord(n[i]) and ord(n[i]) <=57:\n",
        "    s+=int(n[i])\n",
        "print(s)"
      ],
      "metadata": {
        "colab": {
          "base_uri": "https://localhost:8080/"
        },
        "id": "vk2l4l5u6zvl",
        "outputId": "213d9abb-5643-4e3a-aac5-500087e0cfb5"
      },
      "execution_count": null,
      "outputs": [
        {
          "output_type": "stream",
          "name": "stdout",
          "text": [
            "dfghj6bnm7fghbnm8jhb 9\n",
            "30\n"
          ]
        }
      ]
    },
    {
      "cell_type": "code",
      "source": [
        "from math import *\n",
        "n=input()\n",
        "thuong=0\n",
        "hoa=0\n",
        "so=0\n",
        "dacbiet=0\n",
        "for i in range(len(n)):\n",
        "  x=n[i]\n",
        "  if 65 <= ord(x) and ord(x) <= 91:\n",
        "    hoa+=1\n",
        "  elif 97 <= ord(x) and ord(x) <= 123:\n",
        "    thuong+=1\n",
        "  elif ord('0') <= ord(x) and ord(x) <= ord('9'):\n",
        "    so+=1\n",
        "  else:\n",
        "    dacbiet+=1\n",
        "if dacbiet >=1 and hoa >=1 and so >=1 and thuong >=1 and len(n) >6:\n",
        "  print('mat khau manh')\n",
        "else:\n",
        "  print('mat khau yeu')"
      ],
      "metadata": {
        "colab": {
          "base_uri": "https://localhost:8080/"
        },
        "id": "VmZdma1_-FLV",
        "outputId": "3c988261-f679-4238-90db-eb84b2b0bf2e"
      },
      "execution_count": null,
      "outputs": [
        {
          "output_type": "stream",
          "name": "stdout",
          "text": [
            "h7H]\n",
            "mat khau yeu\n"
          ]
        }
      ]
    },
    {
      "cell_type": "code",
      "source": [
        "n=input()\n",
        "id=0\n",
        "s=''\n",
        "for i in range(len(n)-1,-1,-1):\n",
        "  id+=1\n",
        "  if id==3 and i>0:\n",
        "    id=0\n",
        "    s='.'+n[i]+s\n",
        "  else:\n",
        "    s=n[i]+s\n",
        "print(s)"
      ],
      "metadata": {
        "colab": {
          "base_uri": "https://localhost:8080/"
        },
        "id": "4xuOzlxg-ra6",
        "outputId": "d87a4a12-865d-4e9d-9a6f-1663e2f6f8b7"
      },
      "execution_count": null,
      "outputs": [
        {
          "output_type": "stream",
          "name": "stdout",
          "text": [
            "3456789\n",
            "3.456.789\n"
          ]
        }
      ]
    },
    {
      "cell_type": "code",
      "source": [
        "a , b = input() , input()\n",
        "if b in a:\n",
        "    s = a.find(b)\n",
        "    e = len(b)\n",
        "    a = a[:s] + a[e:]\n",
        "    while a[0] == ' ':\n",
        "        a = a[1:]\n",
        "    print(a)\n"
      ],
      "metadata": {
        "colab": {
          "base_uri": "https://localhost:8080/"
        },
        "id": "eGotrZvQ_uwT",
        "outputId": "bed5dfdb-aa50-4656-f5be-09a5dafd3882"
      },
      "execution_count": 4,
      "outputs": [
        {
          "output_type": "stream",
          "name": "stdout",
          "text": [
            "xin chao\n",
            "xin\n",
            "chao\n"
          ]
        }
      ]
    }
  ]
}